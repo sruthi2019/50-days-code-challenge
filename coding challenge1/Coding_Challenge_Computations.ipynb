{
  "nbformat": 4,
  "nbformat_minor": 0,
  "metadata": {
    "colab": {
      "provenance": []
    },
    "kernelspec": {
      "name": "python3",
      "display_name": "Python 3"
    },
    "language_info": {
      "name": "python"
    }
  },
  "cells": [
    {
      "cell_type": "markdown",
      "source": [
        "# **`Coding Challenge: Computations`**"
      ],
      "metadata": {
        "id": "xfYfLvt5L0R2"
      }
    },
    {
      "cell_type": "code",
      "execution_count": 2,
      "metadata": {
        "colab": {
          "base_uri": "https://localhost:8080/"
        },
        "id": "g1xKVv7sLzER",
        "outputId": "6e37c5f0-8cb4-4716-d22e-9e3840253c20"
      },
      "outputs": [
        {
          "output_type": "stream",
          "name": "stdout",
          "text": [
            "Enter marks of subject 1: 80\n",
            "Enter marks of subject 2: 75\n",
            "Enter marks of subject 3: 70\n",
            "Enter marks of subject 4: 85\n",
            "Enter marks of subject 5: 80\n",
            "\n",
            "--- Result ---\n",
            "Average Marks: 78.0\n",
            "Grade: C\n"
          ]
        }
      ],
      "source": [
        "#Calculate grades\n",
        "# Program to calculate grade of 5 subjects\n",
        "\n",
        "subject1 = int(input(\"Enter marks of subject 1: \"))\n",
        "subject2 = int(input(\"Enter marks of subject 2: \"))\n",
        "subject3 = int(input(\"Enter marks of subject 3: \"))\n",
        "subject4 = int(input(\"Enter marks of subject 4: \"))\n",
        "subject5 = int(input(\"Enter marks of subject 5: \"))\n",
        "\n",
        "# Step 2: Calculate average\n",
        "total = subject1 + subject2 + subject3 + subject4 + subject5\n",
        "average = total / 5\n",
        "\n",
        "# Step 3: Determine grade\n",
        "if average >= 90:\n",
        "    grade = \"A\"\n",
        "elif average >= 80:\n",
        "    grade = \"B\"\n",
        "elif average >= 70:\n",
        "    grade = \"C\"\n",
        "elif average >= 60:\n",
        "    grade = \"D\"\n",
        "else:\n",
        "    grade = \"F\"\n",
        "\n",
        "print(\"\\n--- Result ---\")\n",
        "print(\"Average Marks:\", average)\n",
        "print(\"Grade:\", grade)\n"
      ]
    },
    {
      "cell_type": "code",
      "source": [
        "#Compound Interest\n",
        "P = float(input(\"Enter principal amount: \"))\n",
        "R = float(input(\"Enter annual interest rate (%): \"))\n",
        "T = float(input(\"Enter time (years): \"))\n",
        "\n",
        "CI = P * ((1 + R / 100) ** T) - P\n",
        "\n",
        "print(f\"Compound Interest: {CI:.2f}\")\n",
        "print(f\"Total Amount: {P + CI:.2f}\")\n"
      ],
      "metadata": {
        "colab": {
          "base_uri": "https://localhost:8080/"
        },
        "id": "LHpiej0mfatT",
        "outputId": "7a039e06-db64-4dc0-e125-0862b5c7971f"
      },
      "execution_count": 3,
      "outputs": [
        {
          "output_type": "stream",
          "name": "stdout",
          "text": [
            "Enter principal amount: 500\n",
            "Enter annual interest rate (%): 5\n",
            "Enter time (years): 2\n",
            "Compound Interest: 51.25\n",
            "Total Amount: 551.25\n"
          ]
        }
      ]
    },
    {
      "cell_type": "code",
      "source": [
        "#Triangle Area\n",
        "import math\n",
        "a = float(input(\"Enter side a: \"))\n",
        "b = float(input(\"Enter side b: \"))\n",
        "c = float(input(\"Enter side c: \"))\n",
        "s = (a + b + c) / 2\n",
        "area = math.sqrt(s * (s - a) * (s - b) * (s - c))\n",
        "print(f\"Area of the triangle: {area:.2f}\")"
      ],
      "metadata": {
        "colab": {
          "base_uri": "https://localhost:8080/"
        },
        "id": "cx40_PsLf5xf",
        "outputId": "a227b344-ab85-48b3-9e74-1625006d8d4b"
      },
      "execution_count": 5,
      "outputs": [
        {
          "output_type": "stream",
          "name": "stdout",
          "text": [
            "Enter side a: 10\n",
            "Enter side b: 10\n",
            "Enter side c: 10\n",
            "Area of the triangle: 43.30\n"
          ]
        }
      ]
    }
  ]
}